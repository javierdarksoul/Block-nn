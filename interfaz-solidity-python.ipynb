{
 "cells": [
  {
   "cell_type": "code",
   "execution_count": 1,
   "id": "bcae994c",
   "metadata": {},
   "outputs": [],
   "source": [
    "import torch\n",
    "import numpy as np\n",
    "from web3 import Web3\n",
    "import abi\n",
    "from web3.middleware import geth_poa_middleware\n",
    "import model"
   ]
  },
  {
   "cell_type": "markdown",
   "id": "19a3c772",
   "metadata": {},
   "source": [
    "### Declarar web3 con binance smart chain Testnet\n",
    "### Definir private key de la wallet origen (realiza gastos)\n"
   ]
  },
  {
   "cell_type": "code",
   "execution_count": 2,
   "id": "e5b36fca",
   "metadata": {},
   "outputs": [],
   "source": [
    "w3 = Web3(Web3.HTTPProvider('https://data-seed-prebsc-1-s1.binance.org:8545'))\n",
    "w3.middleware_onion.inject(geth_poa_middleware, layer=0) \n",
    "\n",
    "private_key=\"db95cd3ee5421326ab4cca7edbccc1ae3a34f77d13fa355f8a23cfdfda11ba26\"\n",
    "account=w3.eth.account.from_key(\"db95cd3ee5421326ab4cca7edbccc1ae3a34f77d13fa355f8a23cfdfda11ba26\")"
   ]
  },
  {
   "cell_type": "markdown",
   "id": "e30dfdaa",
   "metadata": {},
   "source": [
    "### Deploy del contrato \"Neural network\", Se calcula el gas y se hace deploy de la transaccion firmada por la cuenta de origen"
   ]
  },
  {
   "cell_type": "code",
   "execution_count": 3,
   "id": "1f8dae6c",
   "metadata": {},
   "outputs": [
    {
     "name": "stdout",
     "output_type": "stream",
     "text": [
      "0x36cdb55b79790cc9df09f1711ad165ec54be28881d46510aba575b648849bff9\n"
     ]
    }
   ],
   "source": [
    "neuralNetwork_contract = w3.eth.contract(abi=abi.nnAbi, bytecode=abi.nnBin)\n",
    "estimateGas=neuralNetwork_contract.constructor().estimateGas() + 100000\n",
    "deploy_trans=neuralNetwork_contract.constructor().buildTransaction({'gas':estimateGas ,'nonce': w3.eth.get_transaction_count(account.address),'gasPrice': w3.toWei(10, 'gwei')})\n",
    "signed_txn = w3.eth.account.sign_transaction(deploy_trans, private_key=private_key)\n",
    "send=w3.eth.sendRawTransaction(signed_txn.rawTransaction) \n",
    "print(send.hex())\n",
    "contract_nn_deployed = w3.eth.wait_for_transaction_receipt(send.hex()).contractAddress"
   ]
  },
  {
   "cell_type": "markdown",
   "id": "0835988c",
   "metadata": {},
   "source": [
    "### Se carga el modelo a guardar en conjunto con su state dict, además de cargar el contrato \"neural network\" deployeado anteriormente"
   ]
  },
  {
   "cell_type": "code",
   "execution_count": 4,
   "id": "a5e2a24e",
   "metadata": {},
   "outputs": [],
   "source": [
    "contract=w3.eth.contract(address=contract_nn_deployed, abi=abi.nnAbi )\n",
    "modelo=model.nnblock()\n",
    "args_model= modelo.state_dict()"
   ]
  },
  {
   "cell_type": "markdown",
   "id": "f1f3b8ea",
   "metadata": {},
   "source": [
    "### Recorrer cada capa para guardar el weight y bias "
   ]
  },
  {
   "cell_type": "code",
   "execution_count": null,
   "id": "24f51e3e",
   "metadata": {},
   "outputs": [
    {
     "name": "stdout",
     "output_type": "stream",
     "text": [
      "0x731c7b3a840872b4965ec07d03ae09a989c4f14a342a0d54d42aff1a0795ea6a\n"
     ]
    }
   ],
   "source": [
    "for name in range(0,len(args_model),2):\n",
    "    keys=list(args_model.keys())\n",
    "    nonce= w3.eth.get_transaction_count(account.address)  \n",
    "    layer_name= (keys[name][0:keys[name].find(\".\")])\n",
    "    layer_weight =np.array(((args_model[layer_name+\".weight\"].reshape(-1)) * (10**10)).detach() ,dtype=int).tolist()\n",
    "    layer_bias = np.array(((args_model[layer_name + \".bias\"].reshape(-1)) * (10**10)).detach() ,dtype=int).tolist()\n",
    "    \n",
    "    a=contract.functions.NewLayer(layer_weight,layer_bias,layer_name).buildTransaction({'from': account.address,'nonce': nonce ,'gasPrice': 20000000000})\n",
    "    signed_txn = w3.eth.account.sign_transaction(a, private_key=private_key)\n",
    "    send=w3.eth.sendRawTransaction(signed_txn.rawTransaction)\n",
    "    w3.eth.wait_for_transaction_receipt(send.hex())\n",
    "    print(send.hex())"
   ]
  },
  {
   "cell_type": "code",
   "execution_count": null,
   "id": "5506dd75",
   "metadata": {},
   "outputs": [],
   "source": [
    "contract_nn_deployed "
   ]
  },
  {
   "cell_type": "markdown",
   "id": "860976a6",
   "metadata": {},
   "source": [
    "### Como prueba, se pueden obtener el nombre de las capas añadidas en el paso anterior"
   ]
  },
  {
   "cell_type": "code",
   "execution_count": null,
   "id": "f715b8f3",
   "metadata": {},
   "outputs": [],
   "source": [
    "contract.functions.getLayersNames().call()"
   ]
  },
  {
   "cell_type": "markdown",
   "id": "faf21768",
   "metadata": {},
   "source": [
    "### Visualizar el ultimo timestamp en el que se modificó la capa \"conv1\""
   ]
  },
  {
   "cell_type": "code",
   "execution_count": null,
   "id": "bb460dd3",
   "metadata": {},
   "outputs": [],
   "source": [
    "from datetime import datetime\n",
    "dt_object = datetime.fromtimestamp(contract.functions.getLastModify(\"conv1\").call())\n",
    "print(\"fecha de modificacion de la capa : \", dt_object)"
   ]
  },
  {
   "cell_type": "markdown",
   "id": "40a18ad5",
   "metadata": {},
   "source": [
    "### Visualizar los pesos y bias de una capa"
   ]
  },
  {
   "cell_type": "code",
   "execution_count": null,
   "id": "aa2a50a3",
   "metadata": {},
   "outputs": [],
   "source": [
    "contract.functions.getLayerWeight(\"conv1\").call()"
   ]
  },
  {
   "cell_type": "code",
   "execution_count": null,
   "id": "7d9c632f",
   "metadata": {},
   "outputs": [],
   "source": [
    "contract.functions.getLayerBias(\"conv1\").call()"
   ]
  },
  {
   "cell_type": "markdown",
   "id": "bd13872e",
   "metadata": {},
   "source": [
    "### NEXT STEP, cargar pesos desde etherum "
   ]
  },
  {
   "cell_type": "code",
   "execution_count": null,
   "id": "41cd2862",
   "metadata": {},
   "outputs": [],
   "source": [
    "modelo.conv1.state_dict()['weight'].shape"
   ]
  },
  {
   "cell_type": "code",
   "execution_count": null,
   "id": "d360cfbd",
   "metadata": {},
   "outputs": [],
   "source": []
  }
 ],
 "metadata": {
  "kernelspec": {
   "display_name": "Python 3 (ipykernel)",
   "language": "python",
   "name": "python3"
  },
  "language_info": {
   "codemirror_mode": {
    "name": "ipython",
    "version": 3
   },
   "file_extension": ".py",
   "mimetype": "text/x-python",
   "name": "python",
   "nbconvert_exporter": "python",
   "pygments_lexer": "ipython3",
   "version": "3.8.12"
  }
 },
 "nbformat": 4,
 "nbformat_minor": 5
}
